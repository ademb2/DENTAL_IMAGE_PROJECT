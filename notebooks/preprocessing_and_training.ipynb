{
 "cells": [
  {
   "cell_type": "code",
   "execution_count": 11,
   "metadata": {},
   "outputs": [],
   "source": [
    "# data:\n",
    "image_dir = \"../data/raw/all_images\"\n",
    "label_file = \"../data/raw/dental_images.csv\"\n",
    "image_size = (512, 512)\n",
    "batch_size = 32\n",
    "validation_split = 0.2\n",
    "test_split = 0.15\n",
    "image_type = \"photo\"\n",
    "# model:\n",
    "model_name = \"VGG16\"\n",
    "weights = \"IMAGENET1K_V1\"\n",
    "num_classes = 4\n",
    "\n",
    "# training:\n",
    "epochs = 30\n",
    "learning_rate = 0.0001\n",
    "save_path = \"../outputs/models/\"\n",
    "\n",
    "# evaluation:\n",
    "metrics = [\"accuracy\", \"precision\", \"recall\", \"f1_score\"]"
   ]
  },
  {
   "cell_type": "markdown",
   "metadata": {},
   "source": [
    "# data loading and preprocessing\n"
   ]
  },
  {
   "cell_type": "code",
   "execution_count": 12,
   "metadata": {},
   "outputs": [],
   "source": [
    "\n",
    "import os\n",
    "import pandas as pd\n",
    "import torch\n",
    "from sklearn.model_selection import train_test_split\n",
    "from torchvision import transforms\n",
    "from torch.utils.data import DataLoader, Subset, Dataset\n",
    "from PIL import Image\n",
    "\n",
    "class ImageDataset(Dataset):\n",
    "    def __init__(self, image_dir, labels_df, transform=None):\n",
    "        \"\"\"\n",
    "        Args:\n",
    "            image_dir (str): Path to the directory with images.\n",
    "            labels_df (pd.DataFrame): DataFrame with filtered image labels.\n",
    "            transform (callable, optional): A function/transform to apply to the images.\n",
    "        \"\"\"\n",
    "        self.image_dir = image_dir\n",
    "        self.labels = labels_df\n",
    "        self.transform = transform\n",
    "\n",
    "    def __len__(self):\n",
    "        return len(self.labels)\n",
    "\n",
    "    def __getitem__(self, idx):\n",
    "        img_name = os.path.join(self.image_dir, self.labels.iloc[idx]['file_name'])\n",
    "        try:\n",
    "            image = Image.open(img_name).convert(\"RGB\")\n",
    "        except FileNotFoundError:\n",
    "            raise FileNotFoundError(f\"Image {img_name} not found.\")\n",
    "\n",
    "        label = self.labels.iloc[idx]['label']\n",
    "        if self.transform:\n",
    "            image = self.transform(image)\n",
    "        return image, torch.tensor(label, dtype=torch.long)\n",
    "\n",
    "def load_labels(label_file, image_type):\n",
    "    labels = pd.read_csv(label_file)\n",
    "    if 'image_type' not in labels.columns or 'category' not in labels.columns:\n",
    "        raise KeyError(\"Label file must contain 'image_type' and 'category' columns.\")\n",
    "    labels = labels[labels['image_type'] == image_type]\n",
    "    labels['label'] = labels['category'].astype('category').cat.codes\n",
    "    return labels\n",
    "\n",
    "def create_transforms(image_size):\n",
    "    train_transform = transforms.Compose([\n",
    "        transforms.Resize(image_size),\n",
    "        transforms.RandomHorizontalFlip(),\n",
    "        transforms.RandomRotation(15),\n",
    "        transforms.ColorJitter(brightness=0.4, contrast=0.4, saturation=0.4, hue=0.05),\n",
    "        transforms.RandomResizedCrop(image_size, scale=(0.8, 1.0), ratio=(0.75, 1.333)),\n",
    "        transforms.ToTensor(),\n",
    "        transforms.Normalize(mean=[0.5456, 0.3630, 0.3329], std=[0.1742, 0.1712, 0.1552])\n",
    "    ])\n",
    "\n",
    "    val_transform = transforms.Compose([\n",
    "        transforms.Resize(image_size),\n",
    "        transforms.ToTensor(),\n",
    "        transforms.Normalize(mean=[0.5456, 0.3630, 0.3329], std=[0.1742, 0.1712, 0.1552])\n",
    "    ])\n",
    "\n",
    "    test_transform = val_transform  # Use the same transform for validation and test\n",
    "\n",
    "    return train_transform, val_transform, test_transform\n",
    "\n",
    "def create_datasets(image_dir, labels, train_transform, val_transform, test_transform, test_split, validation_split):\n",
    "    indices = list(range(len(labels)))\n",
    "    train_idx, test_idx = train_test_split(\n",
    "        indices, test_size=test_split, stratify=labels['label'], random_state=42)\n",
    "\n",
    "    train_idx, val_idx = train_test_split(\n",
    "        train_idx, test_size=validation_split / (1 - test_split), stratify=labels.iloc[train_idx]['label'], random_state=42)\n",
    "\n",
    "    train_dataset = ImageDataset(image_dir, labels.iloc[train_idx], transform=train_transform)\n",
    "    val_dataset = ImageDataset(image_dir, labels.iloc[val_idx], transform=val_transform)\n",
    "    test_dataset = ImageDataset(image_dir, labels.iloc[test_idx], transform=test_transform)\n",
    "\n",
    "    return train_dataset, val_dataset, test_dataset\n",
    "\n",
    "def create_dataloaders(train_dataset, val_dataset, test_dataset, batch_size):\n",
    "    train_loader = DataLoader(train_dataset, batch_size=batch_size, shuffle=True)\n",
    "    val_loader = DataLoader(val_dataset, batch_size=batch_size, shuffle=False)\n",
    "    test_loader = DataLoader(test_dataset, batch_size=batch_size, shuffle=False)\n",
    "    return train_loader, val_loader, test_loader\n",
    "\n",
    "#def load_data(image_dir, label_file, image_type, image_size, test_split, validation_split, batch_size):\n",
    "def load_data():\n",
    "    labels = load_labels(label_file, image_type)\n",
    "    train_transform, val_transform, test_transform = create_transforms(image_size)\n",
    "    train_dataset, val_dataset, test_dataset = create_datasets(\n",
    "        image_dir, labels, train_transform, val_transform, test_transform, test_split, validation_split)\n",
    "    return create_dataloaders(train_dataset, val_dataset, test_dataset, batch_size)\n"
   ]
  },
  {
   "cell_type": "code",
   "execution_count": null,
   "metadata": {},
   "outputs": [],
   "source": []
  },
  {
   "cell_type": "markdown",
   "metadata": {},
   "source": [
    "# Model creation"
   ]
  },
  {
   "cell_type": "code",
   "execution_count": 13,
   "metadata": {},
   "outputs": [],
   "source": [
    "import torch.nn as nn\n",
    "import torchvision.models as models\n",
    "\n",
    "def get_model(model_name, num_classes, weights=None):\n",
    "    \"\"\"\n",
    "    Initialize and return a model with the specified architecture and weights.\n",
    "\n",
    "    Args:\n",
    "        model_name (str): Name of the model architecture to use.\n",
    "        num_classes (int): Number of output classes.\n",
    "        weights (str, optional): Pre-trained weights to load.\n",
    "\n",
    "    Returns:\n",
    "        nn.Module: The initialized model with the custom classifier.\n",
    "    \"\"\"\n",
    "    if model_name == \"VGG16\":\n",
    "        model = models.vgg16(weights=weights)\n",
    "        for param in model.features.parameters():\n",
    "            #param.requires_grad = False\n",
    "            #model.classifier[1] = nn.Linear(model.classifier[6].in_features, num_classes)\n",
    "            #model.classifier[4] = nn.Linear(model.classifier[6].in_features, num_classes)\n",
    "            model.classifier[6] = nn.Linear(model.classifier[6].in_features, num_classes)\n",
    "    # elif model_name == \"ResNet18\":\n",
    "    #     model = models.resnet18(weights=weights)\n",
    "    #     model.fc = nn.Linear(model.fc.in_features, num_classes)\n",
    "    # elif model_name == \"DenseNet121\":\n",
    "    #     model = models.densenet121(weights=weights)\n",
    "    #     model.classifier = nn.Linear(model.classifier.in_features, num_classes)\n",
    "    # # Add other models as needed\n",
    "    # else:\n",
    "    #     raise ValueError(f\"Model {model_name} not supported\")\n",
    "    # Wrap the model with DataParallel\n",
    "    \n",
    "    return model\n"
   ]
  },
  {
   "cell_type": "markdown",
   "metadata": {},
   "source": [
    "# training "
   ]
  },
  {
   "cell_type": "code",
   "execution_count": 14,
   "metadata": {},
   "outputs": [],
   "source": [
    "import torch\n",
    "import matplotlib.pyplot as plt\n",
    "import torch.optim as optim\n",
    "from torch.utils.data import DataLoader\n",
    "# from src.model import get_model\n",
    "# from src.data_loading import load_data\n",
    "# from src.utils import save_model\n",
    "# from src.metrics import calculate_metrics\n",
    "\n",
    "def train_model():\n",
    "    \n",
    "    \n",
    "     # Initialize lists to store metrics\n",
    "    train_losses = []\n",
    "    val_losses = []\n",
    "    accuracies = []\n",
    "    \n",
    "    #load data\n",
    "    train_loader, val_loader, _ = load_data()\n",
    "    device = torch.device(\"cuda\" if torch.cuda.is_available() else \"cpu\")\n",
    "    \n",
    "    model = get_model(model_name, num_classes, weights)\n",
    "    # Move model to GPU and wrap with DataParallel if multiple GPUs are available\n",
    "    if torch.cuda.device_count() > 1:\n",
    "        model = torch.nn.DataParallel(model)\n",
    "        \n",
    "     # Calculate class weights based on training labels\n",
    "    train_labels = [label for _, label in train_loader.dataset]\n",
    "    class_weights = get_class_weights(train_labels)\n",
    "    \n",
    "    criterion = torch.nn.CrossEntropyLoss(weight=class_weights.to(device))\n",
    "    optimizer = optim.Adam(model.parameters(), lr=learning_rate)\n",
    "    \n",
    "    model.to(device)\n",
    "    \n",
    "    model.train()\n",
    "    for epoch in range(epochs):\n",
    "        running_loss = 0.0\n",
    "        for images, labels in train_loader:\n",
    "            #labels = labels.long()\n",
    "            images, labels = images.to(device), labels.to(device)\n",
    "            \n",
    "            optimizer.zero_grad()\n",
    "            outputs = model(images)\n",
    "            loss = criterion(outputs, labels)\n",
    "            loss.backward()\n",
    "            optimizer.step()\n",
    "            \n",
    "            running_loss += loss.item()\n",
    "            # Free GPU memory\n",
    "            torch.cuda.empty_cache()\n",
    "            \n",
    "        print(f\"Epoch {epoch+1}/{epochs}, Loss: {running_loss/len(train_loader)}\")\n",
    "        \n",
    "        # # Validation\n",
    "        # val_metrics = calculate_metrics(model, val_loader, device, criterion)\n",
    "        # print(f\"Validation Metrics: {val_metrics}\")\n",
    "        \n",
    "        epoch_train_loss = running_loss / len(train_loader)\n",
    "        train_losses.append(epoch_train_loss)\n",
    "        # Validation\n",
    "        model.eval()\n",
    "        val_metrics = calculate_metrics(model, val_loader, device, criterion)\n",
    "        print(f\"Validation Metrics: {val_metrics}\")\n",
    "        epoch_val_loss = val_metrics.get('loss', float('inf'))  # Set default value if loss is not returned\n",
    "        val_losses.append(epoch_val_loss)\n",
    "        accuracies.append(val_metrics['accuracy'])\n",
    "        \n",
    "        # Save checkpoint\n",
    "        checkpoint = {\n",
    "            'epoch': epoch + 1,\n",
    "            'model_state_dict': model.state_dict(),\n",
    "            'optimizer_state_dict': optimizer.state_dict(),\n",
    "            'loss': running_loss / len(train_loader),\n",
    "        }\n",
    "        torch.save(checkpoint, save_path + f\"_epoch{epoch+1}.pth\")\n",
    "    \n",
    "    save_model(model, save_path, model_name, image_size, batch_size, epochs, learning_rate)\n",
    "\n",
    "    # Plotting\n",
    "    plt.figure(figsize=(12, 5))\n",
    "    \n",
    "    epochs_range = range(1, len(train_losses) + 1)  # Ensure x-axis matches length of metrics lists\n",
    "    \n",
    "    plt.subplot(1, 2, 1)\n",
    "    plt.plot(epochs_range, train_losses, label='Train Loss')\n",
    "    plt.plot(epochs_range, val_losses, label='Validation Loss')\n",
    "    plt.xlabel('Epochs')\n",
    "    plt.ylabel('Loss')\n",
    "    plt.title('Training and Validation Loss')\n",
    "    plt.legend()\n",
    "    \n",
    "    plt.subplot(1, 2, 2)\n",
    "    plt.plot(epochs_range, accuracies, label='Validation Accuracy')\n",
    "    plt.xlabel('Epochs')\n",
    "    plt.ylabel('Accuracy')\n",
    "    plt.title('Validation Accuracy')\n",
    "    plt.legend()\n",
    "    \n",
    "    plt.tight_layout()\n",
    "    plt.savefig(save_path + \"_training_metrics.png\")\n",
    "    plt.show()"
   ]
  },
  {
   "cell_type": "markdown",
   "metadata": {},
   "source": [
    "# evaluation"
   ]
  },
  {
   "cell_type": "code",
   "execution_count": 15,
   "metadata": {},
   "outputs": [],
   "source": [
    "import seaborn as sns\n",
    "import torch\n",
    "from sklearn.metrics import confusion_matrix\n",
    "# from src.data_loading import load_data\n",
    "# from src.utils import load_model\n",
    "# from src.metrics import calculate_metrics\n",
    "\n",
    "def evaluate_model():\n",
    "    _, _, test_loader = load_data()\n",
    "    model = load_model(\n",
    "        model_name= model_name, \n",
    "        image_size=image_size,  # Replace with actual image size\n",
    "        batch_size=batch_size, \n",
    "        epochs=epochs, \n",
    "        learning_rate=learning_rate\n",
    "    )\n",
    "   \n",
    "        \n",
    "    device = torch.device(\"cuda\" if torch.cuda.is_available() else \"cpu\")\n",
    "    model.to(device)\n",
    "    model.eval()\n",
    "    \n",
    "    test_metrics = calculate_metrics(model, test_loader, device)\n",
    "    print(f\"Test Metrics: {test_metrics}\")\n",
    "    \n",
    "    # Confusion Matrix\n",
    "    all_labels = []\n",
    "    all_preds = []\n",
    "    with torch.no_grad():\n",
    "        for images, labels in test_loader:\n",
    "            images, labels = images.to(device), labels.to(device)\n",
    "            outputs = model(images)\n",
    "            _, preds = torch.max(outputs, 1)\n",
    "           \n",
    "            all_labels.extend(labels.cpu().numpy())\n",
    "            all_preds.extend(preds.cpu().numpy())\n",
    "    \n",
    "    cm = confusion_matrix(all_labels, all_preds)\n",
    "    \n",
    "    plt.figure(figsize=(10, 8))\n",
    "    sns.heatmap(cm, annot=True, fmt='d', cmap='Blues', xticklabels=np.arange(num_classes), yticklabels=np.arange(num_classes))\n",
    "    plt.xlabel('Predicted Label')\n",
    "    plt.ylabel('True Label')\n",
    "    plt.title('Confusion Matrix')\n",
    "    plt.savefig(save_path + \"_confusion_matrix.png\")\n",
    "    plt.show()"
   ]
  },
  {
   "cell_type": "markdown",
   "metadata": {},
   "source": [
    "# metrics"
   ]
  },
  {
   "cell_type": "code",
   "execution_count": 16,
   "metadata": {},
   "outputs": [],
   "source": [
    "import torch\n",
    "from sklearn.metrics import accuracy_score, precision_score, recall_score, f1_score\n",
    "\n",
    "def calculate_metrics(model, dataloader, device, criterion=None):\n",
    "    model.eval()\n",
    "    all_labels = []\n",
    "    all_preds = []\n",
    "    total_loss = 0.0\n",
    "    \n",
    "    with torch.no_grad():\n",
    "        for images, labels in dataloader:\n",
    "            images, labels = images.to(device), labels.to(device)\n",
    "            outputs = model(images)\n",
    "            _, preds = torch.max(outputs, 1)\n",
    "            \n",
    "            if criterion:\n",
    "                loss = criterion(outputs, labels)\n",
    "                total_loss += loss.item()\n",
    "            \n",
    "            all_labels.extend(labels.cpu().numpy())\n",
    "            all_preds.extend(preds.cpu().numpy())\n",
    "    \n",
    "    accuracy = accuracy_score(all_labels, all_preds)\n",
    "    precision = precision_score(all_labels, all_preds, average='macro')\n",
    "    recall = recall_score(all_labels, all_preds, average='macro')\n",
    "    f1 = f1_score(all_labels, all_preds, average='macro')\n",
    "    \n",
    "    metrics = {\n",
    "        'accuracy': accuracy,\n",
    "        'precision': precision,\n",
    "        'recall': recall,\n",
    "        'f1_score': f1\n",
    "    }\n",
    "    \n",
    "    if criterion:\n",
    "        metrics['loss'] = total_loss / len(dataloader)\n",
    "    \n",
    "    return metrics\n"
   ]
  },
  {
   "cell_type": "markdown",
   "metadata": {},
   "source": [
    "# utils\n"
   ]
  },
  {
   "cell_type": "code",
   "execution_count": 17,
   "metadata": {},
   "outputs": [],
   "source": [
    "import torch\n",
    "import os\n",
    "import numpy as np\n",
    "from sklearn.utils.class_weight import compute_class_weight\n",
    "# from src.model import get_model\n",
    "\n",
    "def save_model(model, path, model_name, image_size, batch_size, epochs, learning_rate):\n",
    "    # Construct the filename with hyperparameters\n",
    "    filename = f\"{model_name}_img{image_size[0]}x{image_size[1]}_batch{batch_size}_epochs{epochs}_lr{learning_rate:.5f}.pth\"\n",
    "    \n",
    "    # Combine the base path and the filename\n",
    "    save_path = os.path.join(path, filename)\n",
    "    \n",
    "    # Save the model state dictionary\n",
    "    torch.save(model.state_dict(), save_path)\n",
    "    \n",
    "    print(f\"Model saved to: {save_path}\")\n",
    "\n",
    "# def load_model (path):\n",
    "#     model = get_model(\"VGG16\", 4, True)  # Update this if you have different model or parameters\n",
    "#     model.load_state_dict(torch.load(path))\n",
    "#     return model\n",
    "\n",
    "def load_model(model_name, image_size, batch_size, epochs, learning_rate):\n",
    "    # Construct the filename from parameters\n",
    "    filename = f\"{model_name}_img{image_size[0]}x{image_size[1]}_batch{batch_size}_epochs{epochs}_lr{learning_rate:.5f}.pth\"\n",
    "    model_path = os.path.join(save_path, filename)\n",
    "    \n",
    "    # Ensure that the model file exists\n",
    "    if not os.path.isfile(model_path):\n",
    "        raise FileNotFoundError(f\"The model file at {model_path} does not exist.\")\n",
    "    \n",
    "    model = get_model(model_name, num_classes, weights=None)  # Adjust parameters as needed\n",
    "     # Load the state dictionary\n",
    "    state_dict = torch.load(model_path)\n",
    "    \n",
    "    # If model was saved using DataParallel, adjust the keys\n",
    "    if list(state_dict.keys())[0].startswith('module.'):\n",
    "        # Remove 'module.' from the start of each key\n",
    "        state_dict = {k[len('module.'):]: v for k, v in state_dict.items()}\n",
    "    model.load_state_dict(state_dict)    \n",
    "    return model\n",
    "\n",
    "\n",
    "# def get_class_weights(labels):\n",
    "#     class_weights = compute_class_weight(\n",
    "#         class_weight='balanced', \n",
    "#         classes=np.unique(labels), \n",
    "#         y=labels\n",
    "#     )\n",
    "#     return torch.tensor(class_weights, dtype=torch.float)\n",
    "\n",
    "def get_class_weights(labels):\n",
    "    # Convert labels list to a numpy array\n",
    "    labels = np.array(labels)\n",
    "    \n",
    "    # Get the unique classes from the labels\n",
    "    classes = np.unique(labels)\n",
    "    print(\"Classes:\", classes)\n",
    "    print(\"Labels:\", labels)\n",
    "    # Compute class weights\n",
    "    class_weights = compute_class_weight(\n",
    "        class_weight='balanced',\n",
    "        classes=classes,\n",
    "        y=labels\n",
    "    )\n",
    "    \n",
    "    return torch.tensor(class_weights, dtype=torch.float)"
   ]
  },
  {
   "cell_type": "markdown",
   "metadata": {},
   "source": [
    "# main scipt\n"
   ]
  },
  {
   "cell_type": "code",
   "execution_count": 18,
   "metadata": {},
   "outputs": [
    {
     "name": "stdout",
     "output_type": "stream",
     "text": [
      "Classes: [0 1 2 3]\n",
      "Labels: [2 2 0 ... 0 2 3]\n"
     ]
    },
    {
     "name": "stderr",
     "output_type": "stream",
     "text": [
      "/home/boukhari/projects/dental_image_project/.venv/lib/python3.12/site-packages/torch/nn/parallel/parallel_apply.py:79: FutureWarning: `torch.cuda.amp.autocast(args...)` is deprecated. Please use `torch.amp.autocast('cuda', args...)` instead.\n",
      "  with torch.cuda.device(device), torch.cuda.stream(stream), autocast(enabled=autocast_enabled):\n"
     ]
    },
    {
     "name": "stdout",
     "output_type": "stream",
     "text": [
      "Epoch 1/30, Loss: 0.992265189687411\n",
      "Validation Metrics: {'accuracy': 0.571830985915493, 'precision': 0.5763781223083548, 'recall': 0.5375900409817878, 'f1_score': 0.4649319451645275, 'loss': 0.7672444432973862}\n"
     ]
    },
    {
     "name": "stderr",
     "output_type": "stream",
     "text": [
      "/home/boukhari/projects/dental_image_project/.venv/lib/python3.12/site-packages/torch/nn/parallel/parallel_apply.py:79: FutureWarning: `torch.cuda.amp.autocast(args...)` is deprecated. Please use `torch.amp.autocast('cuda', args...)` instead.\n",
      "  with torch.cuda.device(device), torch.cuda.stream(stream), autocast(enabled=autocast_enabled):\n"
     ]
    },
    {
     "name": "stdout",
     "output_type": "stream",
     "text": [
      "Epoch 2/30, Loss: 0.7522411925925149\n",
      "Validation Metrics: {'accuracy': 0.6112676056338028, 'precision': 0.6463069212328706, 'recall': 0.6305913621770037, 'f1_score': 0.5794710494278358, 'loss': 0.7043823550144831}\n"
     ]
    },
    {
     "name": "stderr",
     "output_type": "stream",
     "text": [
      "/home/boukhari/projects/dental_image_project/.venv/lib/python3.12/site-packages/torch/nn/parallel/parallel_apply.py:79: FutureWarning: `torch.cuda.amp.autocast(args...)` is deprecated. Please use `torch.amp.autocast('cuda', args...)` instead.\n",
      "  with torch.cuda.device(device), torch.cuda.stream(stream), autocast(enabled=autocast_enabled):\n"
     ]
    },
    {
     "name": "stdout",
     "output_type": "stream",
     "text": [
      "Epoch 3/30, Loss: 0.6690659349163374\n",
      "Validation Metrics: {'accuracy': 0.6676056338028169, 'precision': 0.6659362510289291, 'recall': 0.6685263435122112, 'f1_score': 0.6343358232770857, 'loss': 0.5954114695390066}\n"
     ]
    },
    {
     "name": "stderr",
     "output_type": "stream",
     "text": [
      "/home/boukhari/projects/dental_image_project/.venv/lib/python3.12/site-packages/torch/nn/parallel/parallel_apply.py:79: FutureWarning: `torch.cuda.amp.autocast(args...)` is deprecated. Please use `torch.amp.autocast('cuda', args...)` instead.\n",
      "  with torch.cuda.device(device), torch.cuda.stream(stream), autocast(enabled=autocast_enabled):\n"
     ]
    },
    {
     "name": "stdout",
     "output_type": "stream",
     "text": [
      "Epoch 4/30, Loss: 0.6117120923267471\n",
      "Validation Metrics: {'accuracy': 0.6901408450704225, 'precision': 0.6655875998041897, 'recall': 0.6332120903912877, 'f1_score': 0.6131848903079127, 'loss': 0.6571871985991796}\n"
     ]
    },
    {
     "name": "stderr",
     "output_type": "stream",
     "text": [
      "/home/boukhari/projects/dental_image_project/.venv/lib/python3.12/site-packages/torch/nn/parallel/parallel_apply.py:79: FutureWarning: `torch.cuda.amp.autocast(args...)` is deprecated. Please use `torch.amp.autocast('cuda', args...)` instead.\n",
      "  with torch.cuda.device(device), torch.cuda.stream(stream), autocast(enabled=autocast_enabled):\n"
     ]
    },
    {
     "name": "stdout",
     "output_type": "stream",
     "text": [
      "Epoch 5/30, Loss: 0.5599312409758568\n",
      "Validation Metrics: {'accuracy': 0.5746478873239437, 'precision': 0.6958637291169176, 'recall': 0.6683930781302176, 'f1_score': 0.5520154743907536, 'loss': 0.740770955880483}\n"
     ]
    },
    {
     "name": "stderr",
     "output_type": "stream",
     "text": [
      "/home/boukhari/projects/dental_image_project/.venv/lib/python3.12/site-packages/torch/nn/parallel/parallel_apply.py:79: FutureWarning: `torch.cuda.amp.autocast(args...)` is deprecated. Please use `torch.amp.autocast('cuda', args...)` instead.\n",
      "  with torch.cuda.device(device), torch.cuda.stream(stream), autocast(enabled=autocast_enabled):\n"
     ]
    },
    {
     "name": "stdout",
     "output_type": "stream",
     "text": [
      "Epoch 6/30, Loss: 0.5480242040422227\n",
      "Validation Metrics: {'accuracy': 0.7436619718309859, 'precision': 0.6900565250023454, 'recall': 0.6788720805114248, 'f1_score': 0.667622062565338, 'loss': 0.6580498094360033}\n"
     ]
    },
    {
     "name": "stderr",
     "output_type": "stream",
     "text": [
      "/home/boukhari/projects/dental_image_project/.venv/lib/python3.12/site-packages/torch/nn/parallel/parallel_apply.py:79: FutureWarning: `torch.cuda.amp.autocast(args...)` is deprecated. Please use `torch.amp.autocast('cuda', args...)` instead.\n",
      "  with torch.cuda.device(device), torch.cuda.stream(stream), autocast(enabled=autocast_enabled):\n"
     ]
    },
    {
     "name": "stdout",
     "output_type": "stream",
     "text": [
      "Epoch 7/30, Loss: 0.4945964457260238\n",
      "Validation Metrics: {'accuracy': 0.5577464788732395, 'precision': 0.6836986490212296, 'recall': 0.649188767221554, 'f1_score': 0.53573672473194, 'loss': 1.0707439184188843}\n"
     ]
    },
    {
     "name": "stderr",
     "output_type": "stream",
     "text": [
      "/home/boukhari/projects/dental_image_project/.venv/lib/python3.12/site-packages/torch/nn/parallel/parallel_apply.py:79: FutureWarning: `torch.cuda.amp.autocast(args...)` is deprecated. Please use `torch.amp.autocast('cuda', args...)` instead.\n",
      "  with torch.cuda.device(device), torch.cuda.stream(stream), autocast(enabled=autocast_enabled):\n"
     ]
    },
    {
     "name": "stdout",
     "output_type": "stream",
     "text": [
      "Epoch 8/30, Loss: 0.44643084622091717\n",
      "Validation Metrics: {'accuracy': 0.6676056338028169, 'precision': 0.7288809703601967, 'recall': 0.7349716954295812, 'f1_score': 0.6449074486639254, 'loss': 0.5451789622505506}\n"
     ]
    },
    {
     "name": "stderr",
     "output_type": "stream",
     "text": [
      "/home/boukhari/projects/dental_image_project/.venv/lib/python3.12/site-packages/torch/nn/parallel/parallel_apply.py:79: FutureWarning: `torch.cuda.amp.autocast(args...)` is deprecated. Please use `torch.amp.autocast('cuda', args...)` instead.\n",
      "  with torch.cuda.device(device), torch.cuda.stream(stream), autocast(enabled=autocast_enabled):\n"
     ]
    },
    {
     "name": "stdout",
     "output_type": "stream",
     "text": [
      "Epoch 9/30, Loss: 0.40933795852793586\n",
      "Validation Metrics: {'accuracy': 0.7718309859154929, 'precision': 0.7099488604686673, 'recall': 0.7127688861436742, 'f1_score': 0.7043844536737938, 'loss': 0.6044701611002287}\n"
     ]
    },
    {
     "name": "stderr",
     "output_type": "stream",
     "text": [
      "/home/boukhari/projects/dental_image_project/.venv/lib/python3.12/site-packages/torch/nn/parallel/parallel_apply.py:79: FutureWarning: `torch.cuda.amp.autocast(args...)` is deprecated. Please use `torch.amp.autocast('cuda', args...)` instead.\n",
      "  with torch.cuda.device(device), torch.cuda.stream(stream), autocast(enabled=autocast_enabled):\n"
     ]
    },
    {
     "name": "stdout",
     "output_type": "stream",
     "text": [
      "Epoch 10/30, Loss: 0.35028616049223477\n",
      "Validation Metrics: {'accuracy': 0.7070422535211267, 'precision': 0.696385302664005, 'recall': 0.6844241560465416, 'f1_score': 0.6595825228759233, 'loss': 0.9569156244397163}\n"
     ]
    },
    {
     "name": "stderr",
     "output_type": "stream",
     "text": [
      "/home/boukhari/projects/dental_image_project/.venv/lib/python3.12/site-packages/torch/nn/parallel/parallel_apply.py:79: FutureWarning: `torch.cuda.amp.autocast(args...)` is deprecated. Please use `torch.amp.autocast('cuda', args...)` instead.\n",
      "  with torch.cuda.device(device), torch.cuda.stream(stream), autocast(enabled=autocast_enabled):\n"
     ]
    },
    {
     "name": "stdout",
     "output_type": "stream",
     "text": [
      "Epoch 11/30, Loss: 0.340848956671026\n",
      "Validation Metrics: {'accuracy': 0.7830985915492957, 'precision': 0.7600935520452765, 'recall': 0.7719214914664322, 'f1_score': 0.745997666758895, 'loss': 0.5688630510121584}\n"
     ]
    },
    {
     "name": "stderr",
     "output_type": "stream",
     "text": [
      "/home/boukhari/projects/dental_image_project/.venv/lib/python3.12/site-packages/torch/nn/parallel/parallel_apply.py:79: FutureWarning: `torch.cuda.amp.autocast(args...)` is deprecated. Please use `torch.amp.autocast('cuda', args...)` instead.\n",
      "  with torch.cuda.device(device), torch.cuda.stream(stream), autocast(enabled=autocast_enabled):\n"
     ]
    },
    {
     "name": "stdout",
     "output_type": "stream",
     "text": [
      "Epoch 12/30, Loss: 0.3969229662583934\n",
      "Validation Metrics: {'accuracy': 0.7098591549295775, 'precision': 0.6581101755450859, 'recall': 0.6698408272602733, 'f1_score': 0.6509338359849869, 'loss': 0.6421096076567968}\n"
     ]
    },
    {
     "name": "stderr",
     "output_type": "stream",
     "text": [
      "/home/boukhari/projects/dental_image_project/.venv/lib/python3.12/site-packages/torch/nn/parallel/parallel_apply.py:79: FutureWarning: `torch.cuda.amp.autocast(args...)` is deprecated. Please use `torch.amp.autocast('cuda', args...)` instead.\n",
      "  with torch.cuda.device(device), torch.cuda.stream(stream), autocast(enabled=autocast_enabled):\n"
     ]
    },
    {
     "name": "stdout",
     "output_type": "stream",
     "text": [
      "Epoch 13/30, Loss: 0.4610036921997865\n",
      "Validation Metrics: {'accuracy': 0.6507042253521127, 'precision': 0.6973248106060607, 'recall': 0.6903110956389644, 'f1_score': 0.6267507233318874, 'loss': 0.8378039573629698}\n"
     ]
    },
    {
     "name": "stderr",
     "output_type": "stream",
     "text": [
      "/home/boukhari/projects/dental_image_project/.venv/lib/python3.12/site-packages/torch/nn/parallel/parallel_apply.py:79: FutureWarning: `torch.cuda.amp.autocast(args...)` is deprecated. Please use `torch.amp.autocast('cuda', args...)` instead.\n",
      "  with torch.cuda.device(device), torch.cuda.stream(stream), autocast(enabled=autocast_enabled):\n"
     ]
    },
    {
     "name": "stdout",
     "output_type": "stream",
     "text": [
      "Epoch 14/30, Loss: 0.34326787665486336\n",
      "Validation Metrics: {'accuracy': 0.7098591549295775, 'precision': 0.7597150661350622, 'recall': 0.7726186292890647, 'f1_score': 0.6848524139645146, 'loss': 0.5295816858609518}\n"
     ]
    },
    {
     "name": "stderr",
     "output_type": "stream",
     "text": [
      "/home/boukhari/projects/dental_image_project/.venv/lib/python3.12/site-packages/torch/nn/parallel/parallel_apply.py:79: FutureWarning: `torch.cuda.amp.autocast(args...)` is deprecated. Please use `torch.amp.autocast('cuda', args...)` instead.\n",
      "  with torch.cuda.device(device), torch.cuda.stream(stream), autocast(enabled=autocast_enabled):\n"
     ]
    },
    {
     "name": "stdout",
     "output_type": "stream",
     "text": [
      "Epoch 15/30, Loss: 0.3404710454245408\n",
      "Validation Metrics: {'accuracy': 0.7098591549295775, 'precision': 0.7467847752007826, 'recall': 0.755541162579037, 'f1_score': 0.685188526857911, 'loss': 0.534618309388558}\n"
     ]
    },
    {
     "name": "stderr",
     "output_type": "stream",
     "text": [
      "/home/boukhari/projects/dental_image_project/.venv/lib/python3.12/site-packages/torch/nn/parallel/parallel_apply.py:79: FutureWarning: `torch.cuda.amp.autocast(args...)` is deprecated. Please use `torch.amp.autocast('cuda', args...)` instead.\n",
      "  with torch.cuda.device(device), torch.cuda.stream(stream), autocast(enabled=autocast_enabled):\n"
     ]
    },
    {
     "name": "stdout",
     "output_type": "stream",
     "text": [
      "Epoch 16/30, Loss: 0.2952159473465549\n",
      "Validation Metrics: {'accuracy': 0.7408450704225352, 'precision': 0.73411483230659, 'recall': 0.7495437838710874, 'f1_score': 0.7077486402486403, 'loss': 0.5041614202782512}\n"
     ]
    },
    {
     "name": "stderr",
     "output_type": "stream",
     "text": [
      "/home/boukhari/projects/dental_image_project/.venv/lib/python3.12/site-packages/torch/nn/parallel/parallel_apply.py:79: FutureWarning: `torch.cuda.amp.autocast(args...)` is deprecated. Please use `torch.amp.autocast('cuda', args...)` instead.\n",
      "  with torch.cuda.device(device), torch.cuda.stream(stream), autocast(enabled=autocast_enabled):\n"
     ]
    },
    {
     "name": "stdout",
     "output_type": "stream",
     "text": [
      "Epoch 17/30, Loss: 0.3158046060966121\n",
      "Validation Metrics: {'accuracy': 0.7323943661971831, 'precision': 0.7377212452946414, 'recall': 0.7617281357106116, 'f1_score': 0.7062706010239147, 'loss': 0.5599175579845905}\n"
     ]
    },
    {
     "name": "stderr",
     "output_type": "stream",
     "text": [
      "/home/boukhari/projects/dental_image_project/.venv/lib/python3.12/site-packages/torch/nn/parallel/parallel_apply.py:79: FutureWarning: `torch.cuda.amp.autocast(args...)` is deprecated. Please use `torch.amp.autocast('cuda', args...)` instead.\n",
      "  with torch.cuda.device(device), torch.cuda.stream(stream), autocast(enabled=autocast_enabled):\n"
     ]
    },
    {
     "name": "stdout",
     "output_type": "stream",
     "text": [
      "Epoch 18/30, Loss: 0.24270163869692218\n",
      "Validation Metrics: {'accuracy': 0.8056338028169014, 'precision': 0.746682297111731, 'recall': 0.7564669450197997, 'f1_score': 0.7492216117216117, 'loss': 0.556242955227693}\n"
     ]
    },
    {
     "name": "stderr",
     "output_type": "stream",
     "text": [
      "/home/boukhari/projects/dental_image_project/.venv/lib/python3.12/site-packages/torch/nn/parallel/parallel_apply.py:79: FutureWarning: `torch.cuda.amp.autocast(args...)` is deprecated. Please use `torch.amp.autocast('cuda', args...)` instead.\n",
      "  with torch.cuda.device(device), torch.cuda.stream(stream), autocast(enabled=autocast_enabled):\n"
     ]
    },
    {
     "name": "stdout",
     "output_type": "stream",
     "text": [
      "Epoch 19/30, Loss: 0.2636362528945837\n",
      "Validation Metrics: {'accuracy': 0.7605633802816901, 'precision': 0.7438838223632037, 'recall': 0.7648913105950981, 'f1_score': 0.7249859379750684, 'loss': 0.5516896198193232}\n"
     ]
    },
    {
     "name": "stderr",
     "output_type": "stream",
     "text": [
      "/home/boukhari/projects/dental_image_project/.venv/lib/python3.12/site-packages/torch/nn/parallel/parallel_apply.py:79: FutureWarning: `torch.cuda.amp.autocast(args...)` is deprecated. Please use `torch.amp.autocast('cuda', args...)` instead.\n",
      "  with torch.cuda.device(device), torch.cuda.stream(stream), autocast(enabled=autocast_enabled):\n"
     ]
    },
    {
     "name": "stdout",
     "output_type": "stream",
     "text": [
      "Epoch 20/30, Loss: 0.20681513659656048\n",
      "Validation Metrics: {'accuracy': 0.7549295774647887, 'precision': 0.7065811016757169, 'recall': 0.692943264268872, 'f1_score': 0.6850066551888055, 'loss': 0.9408077026406924}\n"
     ]
    },
    {
     "name": "stderr",
     "output_type": "stream",
     "text": [
      "/home/boukhari/projects/dental_image_project/.venv/lib/python3.12/site-packages/torch/nn/parallel/parallel_apply.py:79: FutureWarning: `torch.cuda.amp.autocast(args...)` is deprecated. Please use `torch.amp.autocast('cuda', args...)` instead.\n",
      "  with torch.cuda.device(device), torch.cuda.stream(stream), autocast(enabled=autocast_enabled):\n"
     ]
    },
    {
     "name": "stdout",
     "output_type": "stream",
     "text": [
      "Epoch 21/30, Loss: 0.15474070929404762\n",
      "Validation Metrics: {'accuracy': 0.8253521126760563, 'precision': 0.7829536534893679, 'recall': 0.8131851972298553, 'f1_score': 0.7877898208863179, 'loss': 0.5899536985283097}\n"
     ]
    },
    {
     "name": "stderr",
     "output_type": "stream",
     "text": [
      "/home/boukhari/projects/dental_image_project/.venv/lib/python3.12/site-packages/torch/nn/parallel/parallel_apply.py:79: FutureWarning: `torch.cuda.amp.autocast(args...)` is deprecated. Please use `torch.amp.autocast('cuda', args...)` instead.\n",
      "  with torch.cuda.device(device), torch.cuda.stream(stream), autocast(enabled=autocast_enabled):\n"
     ]
    },
    {
     "name": "stdout",
     "output_type": "stream",
     "text": [
      "Epoch 22/30, Loss: 0.20568534757735002\n",
      "Validation Metrics: {'accuracy': 0.7915492957746478, 'precision': 0.737243891678345, 'recall': 0.7496780496073883, 'f1_score': 0.7398783600099865, 'loss': 0.6396375919381777}\n"
     ]
    },
    {
     "name": "stderr",
     "output_type": "stream",
     "text": [
      "/home/boukhari/projects/dental_image_project/.venv/lib/python3.12/site-packages/torch/nn/parallel/parallel_apply.py:79: FutureWarning: `torch.cuda.amp.autocast(args...)` is deprecated. Please use `torch.amp.autocast('cuda', args...)` instead.\n",
      "  with torch.cuda.device(device), torch.cuda.stream(stream), autocast(enabled=autocast_enabled):\n"
     ]
    },
    {
     "name": "stdout",
     "output_type": "stream",
     "text": [
      "Epoch 23/30, Loss: 0.1476062253738443\n",
      "Validation Metrics: {'accuracy': 0.7971830985915493, 'precision': 0.7333146489869868, 'recall': 0.7405381942549834, 'f1_score': 0.7354209855090137, 'loss': 0.900322196384271}\n"
     ]
    },
    {
     "name": "stderr",
     "output_type": "stream",
     "text": [
      "/home/boukhari/projects/dental_image_project/.venv/lib/python3.12/site-packages/torch/nn/parallel/parallel_apply.py:79: FutureWarning: `torch.cuda.amp.autocast(args...)` is deprecated. Please use `torch.amp.autocast('cuda', args...)` instead.\n",
      "  with torch.cuda.device(device), torch.cuda.stream(stream), autocast(enabled=autocast_enabled):\n"
     ]
    },
    {
     "name": "stdout",
     "output_type": "stream",
     "text": [
      "Epoch 24/30, Loss: 0.20503058108604616\n",
      "Validation Metrics: {'accuracy': 0.7577464788732394, 'precision': 0.7092808766037113, 'recall': 0.6750480715715312, 'f1_score': 0.6644643401035573, 'loss': 1.0350328832864761}\n"
     ]
    },
    {
     "name": "stderr",
     "output_type": "stream",
     "text": [
      "/home/boukhari/projects/dental_image_project/.venv/lib/python3.12/site-packages/torch/nn/parallel/parallel_apply.py:79: FutureWarning: `torch.cuda.amp.autocast(args...)` is deprecated. Please use `torch.amp.autocast('cuda', args...)` instead.\n",
      "  with torch.cuda.device(device), torch.cuda.stream(stream), autocast(enabled=autocast_enabled):\n"
     ]
    },
    {
     "name": "stdout",
     "output_type": "stream",
     "text": [
      "Epoch 25/30, Loss: 0.17682516026414102\n",
      "Validation Metrics: {'accuracy': 0.8366197183098592, 'precision': 0.7792245285195454, 'recall': 0.767848812634002, 'f1_score': 0.7692787878969318, 'loss': 0.7144418129076561}\n"
     ]
    },
    {
     "name": "stderr",
     "output_type": "stream",
     "text": [
      "/home/boukhari/projects/dental_image_project/.venv/lib/python3.12/site-packages/torch/nn/parallel/parallel_apply.py:79: FutureWarning: `torch.cuda.amp.autocast(args...)` is deprecated. Please use `torch.amp.autocast('cuda', args...)` instead.\n",
      "  with torch.cuda.device(device), torch.cuda.stream(stream), autocast(enabled=autocast_enabled):\n"
     ]
    },
    {
     "name": "stdout",
     "output_type": "stream",
     "text": [
      "Epoch 26/30, Loss: 0.15261091421254808\n",
      "Validation Metrics: {'accuracy': 0.8, 'precision': 0.7636135888072642, 'recall': 0.749796436992593, 'f1_score': 0.7439206550081131, 'loss': 0.8934619501233101}\n"
     ]
    },
    {
     "name": "stderr",
     "output_type": "stream",
     "text": [
      "/home/boukhari/projects/dental_image_project/.venv/lib/python3.12/site-packages/torch/nn/parallel/parallel_apply.py:79: FutureWarning: `torch.cuda.amp.autocast(args...)` is deprecated. Please use `torch.amp.autocast('cuda', args...)` instead.\n",
      "  with torch.cuda.device(device), torch.cuda.stream(stream), autocast(enabled=autocast_enabled):\n"
     ]
    },
    {
     "name": "stdout",
     "output_type": "stream",
     "text": [
      "Epoch 27/30, Loss: 0.13592685665935278\n",
      "Validation Metrics: {'accuracy': 0.8225352112676056, 'precision': 0.7763401713730953, 'recall': 0.7098401943088205, 'f1_score': 0.7109880938690665, 'loss': 0.8530707410536706}\n"
     ]
    },
    {
     "name": "stderr",
     "output_type": "stream",
     "text": [
      "/home/boukhari/projects/dental_image_project/.venv/lib/python3.12/site-packages/torch/nn/parallel/parallel_apply.py:79: FutureWarning: `torch.cuda.amp.autocast(args...)` is deprecated. Please use `torch.amp.autocast('cuda', args...)` instead.\n",
      "  with torch.cuda.device(device), torch.cuda.stream(stream), autocast(enabled=autocast_enabled):\n"
     ]
    },
    {
     "name": "stdout",
     "output_type": "stream",
     "text": [
      "Epoch 28/30, Loss: 0.12412341019242173\n",
      "Validation Metrics: {'accuracy': 0.7943661971830986, 'precision': 0.7749566170843274, 'recall': 0.7539050376387856, 'f1_score': 0.7479517973149283, 'loss': 0.839038801980981}\n"
     ]
    },
    {
     "name": "stderr",
     "output_type": "stream",
     "text": [
      "/home/boukhari/projects/dental_image_project/.venv/lib/python3.12/site-packages/torch/nn/parallel/parallel_apply.py:79: FutureWarning: `torch.cuda.amp.autocast(args...)` is deprecated. Please use `torch.amp.autocast('cuda', args...)` instead.\n",
      "  with torch.cuda.device(device), torch.cuda.stream(stream), autocast(enabled=autocast_enabled):\n"
     ]
    },
    {
     "name": "stdout",
     "output_type": "stream",
     "text": [
      "Epoch 29/30, Loss: 0.13193331017262405\n",
      "Validation Metrics: {'accuracy': 0.8338028169014085, 'precision': 0.7792037358966493, 'recall': 0.7744614092409458, 'f1_score': 0.776650392188328, 'loss': 0.6584232607856393}\n"
     ]
    },
    {
     "name": "stderr",
     "output_type": "stream",
     "text": [
      "/home/boukhari/projects/dental_image_project/.venv/lib/python3.12/site-packages/torch/nn/parallel/parallel_apply.py:79: FutureWarning: `torch.cuda.amp.autocast(args...)` is deprecated. Please use `torch.amp.autocast('cuda', args...)` instead.\n",
      "  with torch.cuda.device(device), torch.cuda.stream(stream), autocast(enabled=autocast_enabled):\n"
     ]
    },
    {
     "name": "stdout",
     "output_type": "stream",
     "text": [
      "Epoch 30/30, Loss: 0.11150901825425939\n",
      "Validation Metrics: {'accuracy': 0.7464788732394366, 'precision': 0.7425702339302512, 'recall': 0.7474844363058043, 'f1_score': 0.7123480663134205, 'loss': 0.6837057801506793}\n",
      "Model saved to: ../outputs/models/VGG16_img512x512_batch32_epochs30_lr0.00010.pth\n"
     ]
    },
    {
     "data": {
      "image/png": "[encoded data removed]",
      "text/plain": [
       "<Figure size 1200x500 with 2 Axes>"
      ]
     },
     "metadata": {},
     "output_type": "display_data"
    },
    {
     "name": "stderr",
     "output_type": "stream",
     "text": [
      "/tmp/ipykernel_232221/1200939961.py:35: FutureWarning: You are using `torch.load` with `weights_only=False` (the current default value), which uses the default pickle module implicitly. It is possible to construct malicious pickle data which will execute arbitrary code during unpickling (See https://github.com/pytorch/pytorch/blob/main/SECURITY.md#untrusted-models for more details). In a future release, the default value for `weights_only` will be flipped to `True`. This limits the functions that could be executed during unpickling. Arbitrary objects will no longer be allowed to be loaded via this mode unless they are explicitly allowlisted by the user via `torch.serialization.add_safe_globals`. We recommend you start setting `weights_only=True` for any use case where you don't have full control of the loaded file. Please open an issue on GitHub for any issues related to this experimental feature.\n",
      "  state_dict = torch.load(model_path)\n"
     ]
    },
    {
     "name": "stdout",
     "output_type": "stream",
     "text": [
      "Test Metrics: {'accuracy': 0.7518796992481203, 'precision': 0.7419176822066513, 'recall': 0.7416666666666666, 'f1_score': 0.7129392446633827}\n"
     ]
    },
    {
     "data": {
      "image/png": "[encoded data removed]",
      "text/plain": [
       "<Figure size 1000x800 with 2 Axes>"
      ]
     },
     "metadata": {},
     "output_type": "display_data"
    }
   ],
   "source": [
    "import yaml\n",
    "# from src.train import train_model\n",
    "# from src.evaluate import evaluate_model\n",
    "\n",
    "if __name__ == \"__main__\":\n",
    "    #with open('/home/boukhari/projects/dental_image_project/configs/config.yaml', \"r\") as file:\n",
    "        #config = yaml.safe_load(file)\n",
    "    \n",
    "    train_model()\n",
    "    evaluate_model()\n"
   ]
  },
  {
   "cell_type": "code",
   "execution_count": null,
   "metadata": {},
   "outputs": [],
   "source": []
  }
 ],
 "metadata": {
  "kernelspec": {
   "display_name": "dent_img_env",
   "language": "python",
   "name": "python3"
  },
  "language_info": {
   "codemirror_mode": {
    "name": "ipython",
    "version": 3
   },
   "file_extension": ".py",
   "mimetype": "text/x-python",
   "name": "python",
   "nbconvert_exporter": "python",
   "pygments_lexer": "ipython3",
   "version": "3.12.4"
  }
 },
 "nbformat": 4,
 "nbformat_minor": 2
}
